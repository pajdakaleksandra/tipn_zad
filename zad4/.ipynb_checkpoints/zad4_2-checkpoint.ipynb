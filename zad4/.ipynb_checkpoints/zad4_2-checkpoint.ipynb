{
 "cells": [
  {
   "cell_type": "code",
   "execution_count": 2,
   "metadata": {},
   "outputs": [
    {
     "data": {
      "text/plain": [
       "['Logika',\n",
       " ' Anatomia',\n",
       " 'Metodologia',\n",
       " 'Psychologia ogólna',\n",
       " 'Biologiczne mechanizmy']"
      ]
     },
     "execution_count": 2,
     "metadata": {},
     "output_type": "execute_result"
    }
   ],
   "source": [
    "przedmioty =  [ 'Logika' , ' Anatomia' , 'Metodologia' , 'Psychologia ogólna' , 'Biologiczne mechanizmy']\n",
    "przedmioty"
   ]
  },
  {
   "cell_type": "code",
   "execution_count": 5,
   "metadata": {},
   "outputs": [
    {
     "name": "stdin",
     "output_type": "stream",
     "text": [
      "Ocena pierwsza: 4\n",
      "Ocena druga: 4.5\n",
      "Ocena trzecia: 5\n",
      "Ocena czwarta: 4\n",
      "Ocena piata: 3\n"
     ]
    }
   ],
   "source": [
    "oceny = []\n",
    "Logika = input(\"Ocena pierwsza:\")\n",
    "oceny.append(float(Logika))\n",
    "Anatomia = input(\"Ocena druga:\")\n",
    "oceny.append(float(Anatomia))\n",
    "Metodologia = input(\"Ocena trzecia:\")\n",
    "oceny.append(float(Metodologia))\n",
    "Psychologia_ogolna = input(\"Ocena czwarta:\")\n",
    "oceny.append(float(Psychologia_ogolna))\n",
    "Biologiczne_mechanizmy = input(\"Ocena piata:\")\n",
    "oceny.append(float(Biologiczne_mechanizmy))"
   ]
  },
  {
   "cell_type": "code",
   "execution_count": 6,
   "metadata": {},
   "outputs": [
    {
     "data": {
      "text/plain": [
       "[4.0, 4.5, 5.0, 4.0, 3.0]"
      ]
     },
     "execution_count": 6,
     "metadata": {},
     "output_type": "execute_result"
    }
   ],
   "source": [
    "oceny "
   ]
  },
  {
   "cell_type": "code",
   "execution_count": 7,
   "metadata": {},
   "outputs": [
    {
     "data": {
      "text/plain": [
       "5"
      ]
     },
     "execution_count": 7,
     "metadata": {},
     "output_type": "execute_result"
    }
   ],
   "source": [
    "len(przedmioty)"
   ]
  },
  {
   "cell_type": "code",
   "execution_count": 8,
   "metadata": {},
   "outputs": [
    {
     "data": {
      "text/plain": [
       "20.5"
      ]
     },
     "execution_count": 8,
     "metadata": {},
     "output_type": "execute_result"
    }
   ],
   "source": [
    "sum(oceny)"
   ]
  },
  {
   "cell_type": "code",
   "execution_count": 10,
   "metadata": {},
   "outputs": [
    {
     "data": {
      "text/plain": [
       "4.1"
      ]
     },
     "execution_count": 10,
     "metadata": {},
     "output_type": "execute_result"
    }
   ],
   "source": [
    "srednia = sum(oceny) / len(przedmioty)\n",
    "srednia"
   ]
  },
  {
   "cell_type": "code",
   "execution_count": 11,
   "metadata": {},
   "outputs": [
    {
     "name": "stdout",
     "output_type": "stream",
     "text": [
      "Moja srednia to:4.1\n"
     ]
    }
   ],
   "source": [
    "print (\"Moja srednia to:\" + str(srednia))"
   ]
  },
  {
   "cell_type": "code",
   "execution_count": null,
   "metadata": {},
   "outputs": [],
   "source": []
  }
 ],
 "metadata": {
  "kernelspec": {
   "display_name": "Python 3",
   "language": "python",
   "name": "python3"
  },
  "language_info": {
   "codemirror_mode": {
    "name": "ipython",
    "version": 3
   },
   "file_extension": ".py",
   "mimetype": "text/x-python",
   "name": "python",
   "nbconvert_exporter": "python",
   "pygments_lexer": "ipython3",
   "version": "3.7.0"
  }
 },
 "nbformat": 4,
 "nbformat_minor": 2
}
