{
 "cells": [
  {
   "cell_type": "markdown",
   "metadata": {},
   "source": [
    "# Jakim pieczywem jesteś?\n",
    "\n",
    "## Ten test składa się z pięciu pytań. Na każde z pytań należy odpowiedzieć podając wartość od 1 do 5. Odpowiadaj szczerze, a pogłębisz swoją więdzę na temat własnej osobowości o nadzwyczaj istotny aspekt! Powodzenia! :) "
   ]
  },
  {
   "cell_type": "code",
   "execution_count": 6,
   "metadata": {},
   "outputs": [],
   "source": [
    "a = \"Czy masz wiele marzeń, za które dałbyś się pokroić?\"\n",
    "b = \"Czy często czujesz się mało wyjątkowy?\"\n",
    "c = \"Czy bardzo szybko tracisz świeżość umysłu?\"\n",
    "d = \"Czy łatwo dostosowujesz się do różnych typów otoczenia?\"\n",
    "e = \"Czy pomimo, że z pozoru zdajesz się być 'twardy' to w wewnątrz jesteś naprawdę 'miękki'?\"\n",
    "punkty = []"
   ]
  },
  {
   "cell_type": "code",
   "execution_count": 7,
   "metadata": {},
   "outputs": [],
   "source": [
    "def test(os) :\n",
    "    lista_pytan = [a, b, c, d, e]\n",
    "def zadaj_pytanie (a) :\n",
    "    print (a)\n",
    "    ax = input(\"1 oznacza zupełnie się nie zgadzam, 2 - raczej się nie zgadzam, 3 - nie mam zdania, 4 - raczej się zgadzam, a 5 - całkowicie się zgadzam. \")\n",
    "    ax = int(ax)\n",
    "    if ax>5 or ax<1 :\n",
    "        print (\"Nie ma takiej odpowiedzi. Zacznij od nowa i podaj poprawną odpowiedź.\")\n",
    "    else : \n",
    "        return ax"
   ]
  },
  {
   "cell_type": "code",
   "execution_count": null,
   "metadata": {},
   "outputs": [
    {
     "name": "stdout",
     "output_type": "stream",
     "text": [
      "Czy masz wiele marzeń, za które dałbyś się pokroić?\n"
     ]
    }
   ],
   "source": [
    "pkt = zadaj_pytanie(a)\n",
    "punkty.append(pkt)\n",
    "pkt = zadaj_pytanie(b)\n",
    "punkty.append(pkt)\n",
    "pkt = zadaj_pytanie(c)\n",
    "punkty.append(pkt)\n",
    "pkt = zadaj_pytanie(d)\n",
    "punkty.append(pkt)\n",
    "pkt = zadaj_pytanie(e)\n",
    "punkty.append(pkt)\n",
    "wynik = sum(punkty)\n",
    "wynik = int(wynik)\n",
    "if wynik == 5:\n",
    "    print(\"Uzyskałeś wynik równy\", wynik, \".\", \"Jesteś croissantem. Albo się Ciebie kocha, albo nienawidzi!\")\n",
    "elif wynik > 5 and wynik < 10 :\n",
    "    print (\"Uzyskałeś wynik równy\", wynik, \".\", \"Jesteś preclem. Masz trudny charakter, ale to właśnie sprawia, że jesteś wyjątkowy!\")\n",
    "elif wynik >= 10 and wynik <15:\n",
    "    print(\"Uzyskałeś wynik równy\", wynik, \".\", \"Jesteś bajglem. W Twojej osobowości jest dużo niespodziewanych zakrętów!\") \n",
    "elif wynik >= 15 and wynik <20:\n",
    "    print(\"Uzyskałeś wynik równy\", wynik, \".\", \"Jesteś grahamką. Jesteś dobry tylko w jednej dziedzinie, ale za to jak!\")\n",
    "elif wynik >= 20 and wynik < 25:\n",
    "    print (\"Uzyskałeś wynik równy\", wynik, \".\", \"Jesteś kajzerką. Może nie jesteś duszą towarzystwa, ale przynajmniej nie ma osoby, której byś przeszkadzał!\")\n",
    "elif wynik == 25:\n",
    "    print(\"Uzyskałeś wynik równy\", wynik, \".\", \"Jesteś chlebem pszennym. Z pewnością nie wyróżniasz się z tłumu, jednak dzięki temu przecież jesteś tak elastyczny!\")\n",
    "    \n",
    "if wynik > 0:\n",
    "    punkty.pop(0)\n",
    "    punkty.pop(0)\n",
    "    punkty.pop(0)\n",
    "    punkty.pop(0)\n",
    "    punkty.pop(0)\n",
    "else:\n",
    "    print(\"Dziękuję za wypełnienie testu! :)\")"
   ]
  },
  {
   "cell_type": "code",
   "execution_count": null,
   "metadata": {},
   "outputs": [],
   "source": []
  }
 ],
 "metadata": {
  "kernelspec": {
   "display_name": "Python 3",
   "language": "python",
   "name": "python3"
  },
  "language_info": {
   "codemirror_mode": {
    "name": "ipython",
    "version": 3
   },
   "file_extension": ".py",
   "mimetype": "text/x-python",
   "name": "python",
   "nbconvert_exporter": "python",
   "pygments_lexer": "ipython3",
   "version": "3.7.0"
  }
 },
 "nbformat": 4,
 "nbformat_minor": 2
}
